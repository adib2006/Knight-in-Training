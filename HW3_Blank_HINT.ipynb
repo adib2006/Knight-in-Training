{
  "nbformat": 4,
  "nbformat_minor": 0,
  "metadata": {
    "kernelspec": {
      "display_name": "Python 3",
      "language": "python",
      "name": "python3"
    },
    "language_info": {
      "codemirror_mode": {
        "name": "ipython",
        "version": 3
      },
      "file_extension": ".py",
      "mimetype": "text/x-python",
      "name": "python",
      "nbconvert_exporter": "python",
      "pygments_lexer": "ipython3",
      "version": "3.8.8"
    },
    "colab": {
      "name": "HW3_Blank_HINT.ipynb",
      "provenance": [],
      "collapsed_sections": [],
      "include_colab_link": true
    }
  },
  "cells": [
    {
      "cell_type": "markdown",
      "metadata": {
        "id": "view-in-github",
        "colab_type": "text"
      },
      "source": [
        "<a href=\"https://colab.research.google.com/github/adib2006/Knight-in-Training/blob/master/HW3_Blank_HINT.ipynb\" target=\"_parent\"><img src=\"https://colab.research.google.com/assets/colab-badge.svg\" alt=\"Open In Colab\"/></a>"
      ]
    },
    {
      "cell_type": "markdown",
      "metadata": {
        "id": "upobLF-7XNHo"
      },
      "source": [
        "# CS97 HW3 - Binary Classification Comparative Methods"
      ]
    },
    {
      "cell_type": "markdown",
      "metadata": {
        "id": "bpZ2eJ6AXNHp"
      },
      "source": [
        "For this project we're going to attempt a binary classification of a dataset using multiple methods and compare results. \n",
        "\n",
        "Our goals for this project will be to introduce you to several of the most common classification techniques, how to perform them and tweek parameters to optimize outcomes, how to produce and interpret results, and compare performance. You will be asked to analyze your findings and provide explanations for observed performance. \n",
        "\n",
        "Specifically you will be asked to classify whether a <b>patient is suffering from heart disease</b> based on a host of potential medical factors.\n",
        "\n",
        "<b><u>DEFINITIONS</b></u>\n",
        "\n",
        "\n",
        "<b> Binary Classification:</b>\n",
        "In this case a complex dataset has an added 'target' label with one of two options. Your learning algorithm will try to assign one of these labels to the data.\n",
        "\n",
        "<b> Supervised Learning:</b>\n",
        "This data is fully supervised, which means it's been fully labeled and we can trust the veracity of the labeling."
      ]
    },
    {
      "cell_type": "markdown",
      "metadata": {
        "id": "CImOo6xKXNHq"
      },
      "source": [
        "## 0.1. Background: The Dataset "
      ]
    },
    {
      "cell_type": "markdown",
      "metadata": {
        "id": "TrWZoTnkXNHr"
      },
      "source": [
        "For this exercise we will be using a subset of the UCI Heart Disease dataset, leveraging the fourteen most commonly used attributes. All identifying information about the patient has been scrubbed. \n",
        "\n",
        "The dataset includes 14 columns. The information provided by each column is as follows:\n",
        "<ul>\n",
        "    <li><b>age:</b> Age in years</li>\n",
        "    <li><b>sex:</b> (1 = male; 0 = female)</li>\n",
        "    <li><b>cp:</b> Chest pain type (0 = asymptomatic; 1 = atypical angina; 2 = non-anginal pain; 3 = typical angina)</li>\n",
        "    <li><b>trestbps:</b> Resting blood pressure (in mm Hg on admission to the hospital)</li>\n",
        "    <li><b>cholserum:</b> Cholestoral in mg/dl</li>\n",
        "    <li><b>fbs</b> Fasting blood sugar > 120 mg/dl (1 = true; 0 = false)</li>\n",
        "    <li><b>restecg:</b> Resting electrocardiographic results (0= showing probable or definite left ventricular hypertrophy by Estes' criteria; 1 = normal; 2 = having ST-T wave abnormality (T wave inversions and/or ST elevation or depression of > 0.05 mV))</li>\n",
        "    <li><b>thalach:</b> Maximum heart rate achieved</li>\n",
        "    <li><b>exang:</b> Exercise induced angina (1 = yes; 0 = no)</li>\n",
        "    <li><b>oldpeakST:</b> Depression induced by exercise relative to rest</li>\n",
        "    <li><b>slope:</b> The slope of the peak exercise ST segment (0 = downsloping; 1 = flat; 2 = upsloping)</li>\n",
        "    <li><b>ca:</b> Number of major vessels (0-3) colored by flourosopy</li>\n",
        "    <li><b>thal:</b> 1 = normal; 2 = fixed defect; 7 = reversable defect</li>\n",
        "    <li><b><u>Sick:</u></b> Indicates the presence of Heart disease (True = Disease; False = No disease)</li>\n",
        "</ul>\n",
        "    \n"
      ]
    },
    {
      "cell_type": "markdown",
      "metadata": {
        "id": "pNbi-JouXNHs"
      },
      "source": [
        "## 0.2. Loading Essentials and Helper Functions "
      ]
    },
    {
      "cell_type": "code",
      "metadata": {
        "id": "TC3VZ8Z5XNHs"
      },
      "source": [
        "#Here are a set of libraries we imported to complete this assignment. \n",
        "#Feel free to use these or equivalent libraries for your implementation\n",
        "import numpy as np # linear algebra\n",
        "import pandas as pd # data processing, CSV file I/O (e.g. pd.read_csv)\n",
        "import matplotlib.pyplot as plt # this is used for the plot the graph \n",
        "import os\n",
        "import seaborn as sns # used for plot interactive graph.\n",
        "from sklearn.model_selection import train_test_split, cross_val_score, GridSearchCV\n",
        "from sklearn import metrics\n",
        "from sklearn.svm import SVC  \n",
        "from sklearn.linear_model import LogisticRegression\n",
        "from sklearn.neighbors import KNeighborsClassifier\n",
        "from sklearn.tree import DecisionTreeClassifier\n",
        "from sklearn.cluster import KMeans\n",
        "from sklearn.metrics import confusion_matrix, classification_report\n",
        "import sklearn.metrics.cluster as smc\n",
        "from sklearn.model_selection import KFold\n",
        "\n",
        "from matplotlib import pyplot\n",
        "import itertools\n",
        "\n",
        "%matplotlib inline\n",
        "\n",
        "import random \n",
        "  \n",
        "random.seed(42) "
      ],
      "execution_count": null,
      "outputs": []
    },
    {
      "cell_type": "code",
      "metadata": {
        "id": "XvJNZ0fzXNHt"
      },
      "source": [
        "# Helper function allowing you to export a graph\n",
        "def save_fig(fig_id, tight_layout=True, fig_extension=\"png\", resolution=300):\n",
        "    path = os.path.join(fig_id + \".\" + fig_extension)\n",
        "    print(\"Saving figure\", fig_id)\n",
        "    if tight_layout:\n",
        "        plt.tight_layout()\n",
        "    plt.savefig(path, format=fig_extension, dpi=resolution)"
      ],
      "execution_count": null,
      "outputs": []
    },
    {
      "cell_type": "code",
      "metadata": {
        "id": "qqtIPRdzXNHt"
      },
      "source": [
        "# Helper function that allows you to draw nicely formatted confusion matrices\n",
        "def draw_confusion_matrix(y, yhat, classes):\n",
        "    '''\n",
        "        Draws a confusion matrix for the given target and predictions\n",
        "        Adapted from scikit-learn and discussion example.\n",
        "    '''\n",
        "    plt.cla()\n",
        "    plt.clf()\n",
        "    matrix = confusion_matrix(y, yhat)\n",
        "    plt.imshow(matrix, interpolation='nearest', cmap=plt.cm.Blues)\n",
        "    plt.title(\"Confusion Matrix\")\n",
        "    plt.colorbar()\n",
        "    num_classes = len(classes)\n",
        "    plt.xticks(np.arange(num_classes), classes, rotation=90)\n",
        "    plt.yticks(np.arange(num_classes), classes)\n",
        "    \n",
        "    fmt = 'd'\n",
        "    thresh = matrix.max() / 2.\n",
        "    for i, j in itertools.product(range(matrix.shape[0]), range(matrix.shape[1])):\n",
        "        plt.text(j, i, format(matrix[i, j], fmt),\n",
        "                 horizontalalignment=\"center\",\n",
        "                 color=\"white\" if matrix[i, j] > thresh else \"black\")\n",
        "\n",
        "    plt.ylabel('True label')\n",
        "    plt.xlabel('Predicted label')\n",
        "    plt.tight_layout()\n",
        "    plt.show()"
      ],
      "execution_count": null,
      "outputs": []
    },
    {
      "cell_type": "markdown",
      "metadata": {
        "id": "MIdoNvYlXNHv"
      },
      "source": [
        "## [20pt] Part 1.  Load the Data and Analyze"
      ]
    },
    {
      "cell_type": "markdown",
      "metadata": {
        "id": "wh-zKMpIXNHv"
      },
      "source": [
        "### 1.1. Let's first load our dataset (heartdisease.csv) so we'll be able to work with it. (correct the relative path if your notebook is in a different directory than the csv file.)"
      ]
    },
    {
      "cell_type": "code",
      "metadata": {
        "id": "5220iz66XNHw",
        "colab": {
          "base_uri": "https://localhost:8080/"
        },
        "outputId": "bb93c7b5-68d1-493e-b7f2-b1de41523e52"
      },
      "source": [
        "'''NOTE FROM TA's'''\n",
        "'''Please use this website https://htmtopdf.herokuapp.com/ipynbviewer/\n",
        "  to convert ipynb file of this colab (File -> download as ipynb) to pdf, \n",
        "  instead of ctrl+p this page because it will not format beutifully\n",
        "  and it'll be difficult for us to grade'''\n",
        "\n",
        "''' your code goes below here'''\n",
        "from google.colab import drive\n",
        "drive.mount('/content/drive')\n",
        "import pandas\n",
        "heartdata = pandas.read_csv('/content/drive/MyDrive/heartdisease.csv')"
      ],
      "execution_count": null,
      "outputs": [
        {
          "output_type": "stream",
          "text": [
            "Drive already mounted at /content/drive; to attempt to forcibly remount, call drive.mount(\"/content/drive\", force_remount=True).\n"
          ],
          "name": "stdout"
        }
      ]
    },
    {
      "cell_type": "markdown",
      "metadata": {
        "id": "h_USIcXSXNHw"
      },
      "source": [
        "### 1.2. Now that our data is loaded, let's take a closer look at the dataset we're working with. Use the head method and the describe method to display some of the rows and undertand the summary of statistics."
      ]
    },
    {
      "cell_type": "code",
      "metadata": {
        "id": "16IWwsPNXNHx",
        "colab": {
          "base_uri": "https://localhost:8080/",
          "height": 203
        },
        "outputId": "7a1f16f4-7ecb-47e8-8ccf-5265dd5d153d"
      },
      "source": [
        "heartdata.head()"
      ],
      "execution_count": null,
      "outputs": [
        {
          "output_type": "execute_result",
          "data": {
            "text/html": [
              "<div>\n",
              "<style scoped>\n",
              "    .dataframe tbody tr th:only-of-type {\n",
              "        vertical-align: middle;\n",
              "    }\n",
              "\n",
              "    .dataframe tbody tr th {\n",
              "        vertical-align: top;\n",
              "    }\n",
              "\n",
              "    .dataframe thead th {\n",
              "        text-align: right;\n",
              "    }\n",
              "</style>\n",
              "<table border=\"1\" class=\"dataframe\">\n",
              "  <thead>\n",
              "    <tr style=\"text-align: right;\">\n",
              "      <th></th>\n",
              "      <th>age</th>\n",
              "      <th>sex</th>\n",
              "      <th>cp</th>\n",
              "      <th>trestbps</th>\n",
              "      <th>chol</th>\n",
              "      <th>fbs</th>\n",
              "      <th>restecg</th>\n",
              "      <th>thalach</th>\n",
              "      <th>exang</th>\n",
              "      <th>oldpeak</th>\n",
              "      <th>slope</th>\n",
              "      <th>ca</th>\n",
              "      <th>thal</th>\n",
              "      <th>sick</th>\n",
              "    </tr>\n",
              "  </thead>\n",
              "  <tbody>\n",
              "    <tr>\n",
              "      <th>0</th>\n",
              "      <td>63</td>\n",
              "      <td>1</td>\n",
              "      <td>3</td>\n",
              "      <td>145</td>\n",
              "      <td>233</td>\n",
              "      <td>1</td>\n",
              "      <td>0</td>\n",
              "      <td>150</td>\n",
              "      <td>0</td>\n",
              "      <td>2.3</td>\n",
              "      <td>0</td>\n",
              "      <td>0</td>\n",
              "      <td>1</td>\n",
              "      <td>False</td>\n",
              "    </tr>\n",
              "    <tr>\n",
              "      <th>1</th>\n",
              "      <td>37</td>\n",
              "      <td>1</td>\n",
              "      <td>2</td>\n",
              "      <td>130</td>\n",
              "      <td>250</td>\n",
              "      <td>0</td>\n",
              "      <td>1</td>\n",
              "      <td>187</td>\n",
              "      <td>0</td>\n",
              "      <td>3.5</td>\n",
              "      <td>0</td>\n",
              "      <td>0</td>\n",
              "      <td>2</td>\n",
              "      <td>False</td>\n",
              "    </tr>\n",
              "    <tr>\n",
              "      <th>2</th>\n",
              "      <td>41</td>\n",
              "      <td>0</td>\n",
              "      <td>1</td>\n",
              "      <td>130</td>\n",
              "      <td>204</td>\n",
              "      <td>0</td>\n",
              "      <td>0</td>\n",
              "      <td>172</td>\n",
              "      <td>0</td>\n",
              "      <td>1.4</td>\n",
              "      <td>2</td>\n",
              "      <td>0</td>\n",
              "      <td>2</td>\n",
              "      <td>False</td>\n",
              "    </tr>\n",
              "    <tr>\n",
              "      <th>3</th>\n",
              "      <td>56</td>\n",
              "      <td>1</td>\n",
              "      <td>1</td>\n",
              "      <td>120</td>\n",
              "      <td>236</td>\n",
              "      <td>0</td>\n",
              "      <td>1</td>\n",
              "      <td>178</td>\n",
              "      <td>0</td>\n",
              "      <td>0.8</td>\n",
              "      <td>2</td>\n",
              "      <td>0</td>\n",
              "      <td>2</td>\n",
              "      <td>False</td>\n",
              "    </tr>\n",
              "    <tr>\n",
              "      <th>4</th>\n",
              "      <td>57</td>\n",
              "      <td>0</td>\n",
              "      <td>0</td>\n",
              "      <td>120</td>\n",
              "      <td>354</td>\n",
              "      <td>0</td>\n",
              "      <td>1</td>\n",
              "      <td>163</td>\n",
              "      <td>1</td>\n",
              "      <td>0.6</td>\n",
              "      <td>2</td>\n",
              "      <td>0</td>\n",
              "      <td>2</td>\n",
              "      <td>False</td>\n",
              "    </tr>\n",
              "  </tbody>\n",
              "</table>\n",
              "</div>"
            ],
            "text/plain": [
              "   age  sex  cp  trestbps  chol  fbs  ...  exang  oldpeak  slope  ca  thal   sick\n",
              "0   63    1   3       145   233    1  ...      0      2.3      0   0     1  False\n",
              "1   37    1   2       130   250    0  ...      0      3.5      0   0     2  False\n",
              "2   41    0   1       130   204    0  ...      0      1.4      2   0     2  False\n",
              "3   56    1   1       120   236    0  ...      0      0.8      2   0     2  False\n",
              "4   57    0   0       120   354    0  ...      1      0.6      2   0     2  False\n",
              "\n",
              "[5 rows x 14 columns]"
            ]
          },
          "metadata": {
            "tags": []
          },
          "execution_count": 16
        }
      ]
    },
    {
      "cell_type": "code",
      "metadata": {
        "id": "KhmoqRF-XNHx",
        "colab": {
          "base_uri": "https://localhost:8080/",
          "height": 295
        },
        "outputId": "e77ca35d-4cbe-4328-cfa1-3d37344243de"
      },
      "source": [
        "heartdata.describe()"
      ],
      "execution_count": null,
      "outputs": [
        {
          "output_type": "execute_result",
          "data": {
            "text/html": [
              "<div>\n",
              "<style scoped>\n",
              "    .dataframe tbody tr th:only-of-type {\n",
              "        vertical-align: middle;\n",
              "    }\n",
              "\n",
              "    .dataframe tbody tr th {\n",
              "        vertical-align: top;\n",
              "    }\n",
              "\n",
              "    .dataframe thead th {\n",
              "        text-align: right;\n",
              "    }\n",
              "</style>\n",
              "<table border=\"1\" class=\"dataframe\">\n",
              "  <thead>\n",
              "    <tr style=\"text-align: right;\">\n",
              "      <th></th>\n",
              "      <th>age</th>\n",
              "      <th>sex</th>\n",
              "      <th>cp</th>\n",
              "      <th>trestbps</th>\n",
              "      <th>chol</th>\n",
              "      <th>fbs</th>\n",
              "      <th>restecg</th>\n",
              "      <th>thalach</th>\n",
              "      <th>exang</th>\n",
              "      <th>oldpeak</th>\n",
              "      <th>slope</th>\n",
              "      <th>ca</th>\n",
              "      <th>thal</th>\n",
              "    </tr>\n",
              "  </thead>\n",
              "  <tbody>\n",
              "    <tr>\n",
              "      <th>count</th>\n",
              "      <td>303.000000</td>\n",
              "      <td>303.000000</td>\n",
              "      <td>303.000000</td>\n",
              "      <td>303.000000</td>\n",
              "      <td>303.000000</td>\n",
              "      <td>303.000000</td>\n",
              "      <td>303.000000</td>\n",
              "      <td>303.000000</td>\n",
              "      <td>303.000000</td>\n",
              "      <td>303.000000</td>\n",
              "      <td>303.000000</td>\n",
              "      <td>303.000000</td>\n",
              "      <td>303.000000</td>\n",
              "    </tr>\n",
              "    <tr>\n",
              "      <th>mean</th>\n",
              "      <td>54.366337</td>\n",
              "      <td>0.683168</td>\n",
              "      <td>0.966997</td>\n",
              "      <td>131.623762</td>\n",
              "      <td>246.264026</td>\n",
              "      <td>0.148515</td>\n",
              "      <td>0.528053</td>\n",
              "      <td>149.646865</td>\n",
              "      <td>0.326733</td>\n",
              "      <td>1.039604</td>\n",
              "      <td>1.399340</td>\n",
              "      <td>0.729373</td>\n",
              "      <td>2.313531</td>\n",
              "    </tr>\n",
              "    <tr>\n",
              "      <th>std</th>\n",
              "      <td>9.082101</td>\n",
              "      <td>0.466011</td>\n",
              "      <td>1.032052</td>\n",
              "      <td>17.538143</td>\n",
              "      <td>51.830751</td>\n",
              "      <td>0.356198</td>\n",
              "      <td>0.525860</td>\n",
              "      <td>22.905161</td>\n",
              "      <td>0.469794</td>\n",
              "      <td>1.161075</td>\n",
              "      <td>0.616226</td>\n",
              "      <td>1.022606</td>\n",
              "      <td>0.612277</td>\n",
              "    </tr>\n",
              "    <tr>\n",
              "      <th>min</th>\n",
              "      <td>29.000000</td>\n",
              "      <td>0.000000</td>\n",
              "      <td>0.000000</td>\n",
              "      <td>94.000000</td>\n",
              "      <td>126.000000</td>\n",
              "      <td>0.000000</td>\n",
              "      <td>0.000000</td>\n",
              "      <td>71.000000</td>\n",
              "      <td>0.000000</td>\n",
              "      <td>0.000000</td>\n",
              "      <td>0.000000</td>\n",
              "      <td>0.000000</td>\n",
              "      <td>0.000000</td>\n",
              "    </tr>\n",
              "    <tr>\n",
              "      <th>25%</th>\n",
              "      <td>47.500000</td>\n",
              "      <td>0.000000</td>\n",
              "      <td>0.000000</td>\n",
              "      <td>120.000000</td>\n",
              "      <td>211.000000</td>\n",
              "      <td>0.000000</td>\n",
              "      <td>0.000000</td>\n",
              "      <td>133.500000</td>\n",
              "      <td>0.000000</td>\n",
              "      <td>0.000000</td>\n",
              "      <td>1.000000</td>\n",
              "      <td>0.000000</td>\n",
              "      <td>2.000000</td>\n",
              "    </tr>\n",
              "    <tr>\n",
              "      <th>50%</th>\n",
              "      <td>55.000000</td>\n",
              "      <td>1.000000</td>\n",
              "      <td>1.000000</td>\n",
              "      <td>130.000000</td>\n",
              "      <td>240.000000</td>\n",
              "      <td>0.000000</td>\n",
              "      <td>1.000000</td>\n",
              "      <td>153.000000</td>\n",
              "      <td>0.000000</td>\n",
              "      <td>0.800000</td>\n",
              "      <td>1.000000</td>\n",
              "      <td>0.000000</td>\n",
              "      <td>2.000000</td>\n",
              "    </tr>\n",
              "    <tr>\n",
              "      <th>75%</th>\n",
              "      <td>61.000000</td>\n",
              "      <td>1.000000</td>\n",
              "      <td>2.000000</td>\n",
              "      <td>140.000000</td>\n",
              "      <td>274.500000</td>\n",
              "      <td>0.000000</td>\n",
              "      <td>1.000000</td>\n",
              "      <td>166.000000</td>\n",
              "      <td>1.000000</td>\n",
              "      <td>1.600000</td>\n",
              "      <td>2.000000</td>\n",
              "      <td>1.000000</td>\n",
              "      <td>3.000000</td>\n",
              "    </tr>\n",
              "    <tr>\n",
              "      <th>max</th>\n",
              "      <td>77.000000</td>\n",
              "      <td>1.000000</td>\n",
              "      <td>3.000000</td>\n",
              "      <td>200.000000</td>\n",
              "      <td>564.000000</td>\n",
              "      <td>1.000000</td>\n",
              "      <td>2.000000</td>\n",
              "      <td>202.000000</td>\n",
              "      <td>1.000000</td>\n",
              "      <td>6.200000</td>\n",
              "      <td>2.000000</td>\n",
              "      <td>4.000000</td>\n",
              "      <td>3.000000</td>\n",
              "    </tr>\n",
              "  </tbody>\n",
              "</table>\n",
              "</div>"
            ],
            "text/plain": [
              "              age         sex          cp  ...       slope          ca        thal\n",
              "count  303.000000  303.000000  303.000000  ...  303.000000  303.000000  303.000000\n",
              "mean    54.366337    0.683168    0.966997  ...    1.399340    0.729373    2.313531\n",
              "std      9.082101    0.466011    1.032052  ...    0.616226    1.022606    0.612277\n",
              "min     29.000000    0.000000    0.000000  ...    0.000000    0.000000    0.000000\n",
              "25%     47.500000    0.000000    0.000000  ...    1.000000    0.000000    2.000000\n",
              "50%     55.000000    1.000000    1.000000  ...    1.000000    0.000000    2.000000\n",
              "75%     61.000000    1.000000    2.000000  ...    2.000000    1.000000    3.000000\n",
              "max     77.000000    1.000000    3.000000  ...    2.000000    4.000000    3.000000\n",
              "\n",
              "[8 rows x 13 columns]"
            ]
          },
          "metadata": {
            "tags": []
          },
          "execution_count": 17
        }
      ]
    },
    {
      "cell_type": "markdown",
      "metadata": {
        "id": "PyWv4-1MXNHx"
      },
      "source": [
        "### 1.3. Sometimes data will be stored in different formats (e.g., string, date, boolean), but many learning methods work strictly on numeric inputs. Call the info method to determine the datafield type for each column. Are there any that are problemmatic and why?"
      ]
    },
    {
      "cell_type": "code",
      "metadata": {
        "id": "Iq-5BOGwXNHy",
        "colab": {
          "base_uri": "https://localhost:8080/"
        },
        "outputId": "b6f39b3f-f030-4cda-b293-f9ebf206e36e"
      },
      "source": [
        "heartdata.info()"
      ],
      "execution_count": null,
      "outputs": [
        {
          "output_type": "stream",
          "text": [
            "<class 'pandas.core.frame.DataFrame'>\n",
            "RangeIndex: 303 entries, 0 to 302\n",
            "Data columns (total 14 columns):\n",
            " #   Column    Non-Null Count  Dtype  \n",
            "---  ------    --------------  -----  \n",
            " 0   age       303 non-null    int64  \n",
            " 1   sex       303 non-null    int64  \n",
            " 2   cp        303 non-null    int64  \n",
            " 3   trestbps  303 non-null    int64  \n",
            " 4   chol      303 non-null    int64  \n",
            " 5   fbs       303 non-null    int64  \n",
            " 6   restecg   303 non-null    int64  \n",
            " 7   thalach   303 non-null    int64  \n",
            " 8   exang     303 non-null    int64  \n",
            " 9   oldpeak   303 non-null    float64\n",
            " 10  slope     303 non-null    int64  \n",
            " 11  ca        303 non-null    int64  \n",
            " 12  thal      303 non-null    int64  \n",
            " 13  sick      303 non-null    bool   \n",
            "dtypes: bool(1), float64(1), int64(12)\n",
            "memory usage: 31.2 KB\n"
          ],
          "name": "stdout"
        }
      ]
    },
    {
      "cell_type": "markdown",
      "metadata": {
        "id": "cX4ZzNgBXNHy"
      },
      "source": [
        "[Use this area to describe any fields you believe will be problemmatic and why? Hint: we can handle numeric variables, such as int and float.] E.g., All the columns in our dataframe are numeric (either int or float), however our target variable 'sick' is a boolean and may need to be modified."
      ]
    },
    {
      "cell_type": "markdown",
      "metadata": {
        "id": "PFrIlNZiXNHy"
      },
      "source": [
        "### 1.4. Determine if we're dealing with any null values. If so, report on which columns? "
      ]
    },
    {
      "cell_type": "code",
      "metadata": {
        "id": "JDWVKylnXNHy",
        "colab": {
          "base_uri": "https://localhost:8080/"
        },
        "outputId": "0bf351e0-028c-4d16-f960-c778acab93f7"
      },
      "source": [
        "heartdata.isnull().sum()"
      ],
      "execution_count": null,
      "outputs": [
        {
          "output_type": "execute_result",
          "data": {
            "text/plain": [
              "age         0\n",
              "sex         0\n",
              "cp          0\n",
              "trestbps    0\n",
              "chol        0\n",
              "fbs         0\n",
              "restecg     0\n",
              "thalach     0\n",
              "exang       0\n",
              "oldpeak     0\n",
              "slope       0\n",
              "ca          0\n",
              "thal        0\n",
              "dtype: int64"
            ]
          },
          "metadata": {
            "tags": []
          },
          "execution_count": 121
        }
      ]
    },
    {
      "cell_type": "markdown",
      "metadata": {
        "id": "-B1auWy4XNHz"
      },
      "source": [
        "[Discuss here]\n",
        "\n",
        "**Answer: No**"
      ]
    },
    {
      "cell_type": "markdown",
      "metadata": {
        "id": "YuaEfczwXNHz"
      },
      "source": [
        "### 1.5. Before we begin our analysis we need to fix the field(s) that will be problematic. Specifically convert our boolean 'sick' variable into a binary numeric target variable (values of either '0' or '1'), name it as 'target', and then drop the original 'sick' datafield from the dataframe. (hint: try label encoder or .astype()"
      ]
    },
    {
      "cell_type": "code",
      "metadata": {
        "id": "l7M85tmEXNH0"
      },
      "source": [
        "heartdata['target'] = (heartdata['sick']).astype(int)\n",
        "del heartdata['sick']"
      ],
      "execution_count": null,
      "outputs": []
    },
    {
      "cell_type": "code",
      "metadata": {
        "id": "66b2CViNXNH0",
        "colab": {
          "base_uri": "https://localhost:8080/",
          "height": 203
        },
        "outputId": "84cbf68e-8e5e-4bbe-e5e0-564f65097d9a"
      },
      "source": [
        "heartdata.head()"
      ],
      "execution_count": null,
      "outputs": [
        {
          "output_type": "execute_result",
          "data": {
            "text/html": [
              "<div>\n",
              "<style scoped>\n",
              "    .dataframe tbody tr th:only-of-type {\n",
              "        vertical-align: middle;\n",
              "    }\n",
              "\n",
              "    .dataframe tbody tr th {\n",
              "        vertical-align: top;\n",
              "    }\n",
              "\n",
              "    .dataframe thead th {\n",
              "        text-align: right;\n",
              "    }\n",
              "</style>\n",
              "<table border=\"1\" class=\"dataframe\">\n",
              "  <thead>\n",
              "    <tr style=\"text-align: right;\">\n",
              "      <th></th>\n",
              "      <th>age</th>\n",
              "      <th>sex</th>\n",
              "      <th>cp</th>\n",
              "      <th>trestbps</th>\n",
              "      <th>chol</th>\n",
              "      <th>fbs</th>\n",
              "      <th>restecg</th>\n",
              "      <th>thalach</th>\n",
              "      <th>exang</th>\n",
              "      <th>oldpeak</th>\n",
              "      <th>slope</th>\n",
              "      <th>ca</th>\n",
              "      <th>thal</th>\n",
              "      <th>target</th>\n",
              "    </tr>\n",
              "  </thead>\n",
              "  <tbody>\n",
              "    <tr>\n",
              "      <th>0</th>\n",
              "      <td>63</td>\n",
              "      <td>1</td>\n",
              "      <td>3</td>\n",
              "      <td>145</td>\n",
              "      <td>233</td>\n",
              "      <td>1</td>\n",
              "      <td>0</td>\n",
              "      <td>150</td>\n",
              "      <td>0</td>\n",
              "      <td>2.3</td>\n",
              "      <td>0</td>\n",
              "      <td>0</td>\n",
              "      <td>1</td>\n",
              "      <td>0</td>\n",
              "    </tr>\n",
              "    <tr>\n",
              "      <th>1</th>\n",
              "      <td>37</td>\n",
              "      <td>1</td>\n",
              "      <td>2</td>\n",
              "      <td>130</td>\n",
              "      <td>250</td>\n",
              "      <td>0</td>\n",
              "      <td>1</td>\n",
              "      <td>187</td>\n",
              "      <td>0</td>\n",
              "      <td>3.5</td>\n",
              "      <td>0</td>\n",
              "      <td>0</td>\n",
              "      <td>2</td>\n",
              "      <td>0</td>\n",
              "    </tr>\n",
              "    <tr>\n",
              "      <th>2</th>\n",
              "      <td>41</td>\n",
              "      <td>0</td>\n",
              "      <td>1</td>\n",
              "      <td>130</td>\n",
              "      <td>204</td>\n",
              "      <td>0</td>\n",
              "      <td>0</td>\n",
              "      <td>172</td>\n",
              "      <td>0</td>\n",
              "      <td>1.4</td>\n",
              "      <td>2</td>\n",
              "      <td>0</td>\n",
              "      <td>2</td>\n",
              "      <td>0</td>\n",
              "    </tr>\n",
              "    <tr>\n",
              "      <th>3</th>\n",
              "      <td>56</td>\n",
              "      <td>1</td>\n",
              "      <td>1</td>\n",
              "      <td>120</td>\n",
              "      <td>236</td>\n",
              "      <td>0</td>\n",
              "      <td>1</td>\n",
              "      <td>178</td>\n",
              "      <td>0</td>\n",
              "      <td>0.8</td>\n",
              "      <td>2</td>\n",
              "      <td>0</td>\n",
              "      <td>2</td>\n",
              "      <td>0</td>\n",
              "    </tr>\n",
              "    <tr>\n",
              "      <th>4</th>\n",
              "      <td>57</td>\n",
              "      <td>0</td>\n",
              "      <td>0</td>\n",
              "      <td>120</td>\n",
              "      <td>354</td>\n",
              "      <td>0</td>\n",
              "      <td>1</td>\n",
              "      <td>163</td>\n",
              "      <td>1</td>\n",
              "      <td>0.6</td>\n",
              "      <td>2</td>\n",
              "      <td>0</td>\n",
              "      <td>2</td>\n",
              "      <td>0</td>\n",
              "    </tr>\n",
              "  </tbody>\n",
              "</table>\n",
              "</div>"
            ],
            "text/plain": [
              "   age  sex  cp  trestbps  chol  fbs  ...  exang  oldpeak  slope  ca  thal  target\n",
              "0   63    1   3       145   233    1  ...      0      2.3      0   0     1       0\n",
              "1   37    1   2       130   250    0  ...      0      3.5      0   0     2       0\n",
              "2   41    0   1       130   204    0  ...      0      1.4      2   0     2       0\n",
              "3   56    1   1       120   236    0  ...      0      0.8      2   0     2       0\n",
              "4   57    0   0       120   354    0  ...      1      0.6      2   0     2       0\n",
              "\n",
              "[5 rows x 14 columns]"
            ]
          },
          "metadata": {
            "tags": []
          },
          "execution_count": 22
        }
      ]
    },
    {
      "cell_type": "markdown",
      "metadata": {
        "id": "1bqyyc48XNH0"
      },
      "source": [
        "### 1.6. Now that we have a feel for the data-types for each of the variables, plot histograms of each field and attempt to ascertain how each variable performs (is it a binary, or limited selection, or does it follow a gradient? "
      ]
    },
    {
      "cell_type": "code",
      "metadata": {
        "id": "fPpuVM9CXNH1",
        "colab": {
          "base_uri": "https://localhost:8080/",
          "height": 1000
        },
        "outputId": "6c59e434-1489-42df-c0c5-4eebdd5bc08e"
      },
      "source": [
        "# hint data.hist() check HW1\n",
        "heartdata.hist(bins=50, figsize=(20,15))"
      ],
      "execution_count": null,
      "outputs": [
        {
          "output_type": "execute_result",
          "data": {
            "text/plain": [
              "array([[<matplotlib.axes._subplots.AxesSubplot object at 0x7f4330d5dc50>,\n",
              "        <matplotlib.axes._subplots.AxesSubplot object at 0x7f4330d2da50>,\n",
              "        <matplotlib.axes._subplots.AxesSubplot object at 0x7f4330cd6f10>,\n",
              "        <matplotlib.axes._subplots.AxesSubplot object at 0x7f4330c964d0>],\n",
              "       [<matplotlib.axes._subplots.AxesSubplot object at 0x7f4330c4ba50>,\n",
              "        <matplotlib.axes._subplots.AxesSubplot object at 0x7f4330c74b10>,\n",
              "        <matplotlib.axes._subplots.AxesSubplot object at 0x7f4330bc1610>,\n",
              "        <matplotlib.axes._subplots.AxesSubplot object at 0x7f4330b77ad0>],\n",
              "       [<matplotlib.axes._subplots.AxesSubplot object at 0x7f4330b77b10>,\n",
              "        <matplotlib.axes._subplots.AxesSubplot object at 0x7f4330b371d0>,\n",
              "        <matplotlib.axes._subplots.AxesSubplot object at 0x7f4330b23bd0>,\n",
              "        <matplotlib.axes._subplots.AxesSubplot object at 0x7f4330ae4190>],\n",
              "       [<matplotlib.axes._subplots.AxesSubplot object at 0x7f4330a9c710>,\n",
              "        <matplotlib.axes._subplots.AxesSubplot object at 0x7f4330a50c90>,\n",
              "        <matplotlib.axes._subplots.AxesSubplot object at 0x7f4330a13250>,\n",
              "        <matplotlib.axes._subplots.AxesSubplot object at 0x7f43309c77d0>]],\n",
              "      dtype=object)"
            ]
          },
          "metadata": {
            "tags": []
          },
          "execution_count": 24
        },
        {
          "output_type": "display_data",
          "data": {
            "image/png": "[encoded data removed]",
            "text/plain": [
              "<Figure size 1440x1080 with 16 Axes>"
            ]
          },
          "metadata": {
            "tags": [],
            "needs_background": "light"
          }
        }
      ]
    },
    {
      "cell_type": "markdown",
      "metadata": {
        "id": "fsHt0eh5XNH1"
      },
      "source": [
        "### 1.7. We also want to make sure we are dealing with a balanced dataset. In this case, we want to confirm whether or not we have an equitable number of  sick and healthy individuals to ensure that our classifier will have a sufficiently balanced dataset to adequately classify the two. Plot a histogram specifically of the sick target, and conduct a count of the number of sick and healthy individuals and report on the results: "
      ]
    },
    {
      "cell_type": "code",
      "metadata": {
        "id": "3ZGEJO7NXNH1",
        "colab": {
          "base_uri": "https://localhost:8080/",
          "height": 370
        },
        "outputId": "c923d215-0637-4ff4-8c0b-0e7da0cca353"
      },
      "source": [
        "#data['target'].hist\n",
        "#data['target'].value_counts()\n",
        "heartdata['target'].hist(bins = 3, figsize=(5,5))\n",
        "heartdata['target'].value_counts()"
      ],
      "execution_count": null,
      "outputs": [
        {
          "output_type": "execute_result",
          "data": {
            "text/plain": [
              "0    165\n",
              "1    138\n",
              "Name: target, dtype: int64"
            ]
          },
          "metadata": {
            "tags": []
          },
          "execution_count": 26
        },
        {
          "output_type": "display_data",
          "data": {
            "image/png": "[encoded data removed]",
            "text/plain": [
              "<Figure size 360x360 with 1 Axes>"
            ]
          },
          "metadata": {
            "tags": [],
            "needs_background": "light"
          }
        }
      ]
    },
    {
      "cell_type": "markdown",
      "metadata": {
        "id": "CsVUEWxHXNH1"
      },
      "source": [
        "[Include description of findings here]\n",
        "\n",
        "**Answer: The class distribution is almost equal. It is only off by 27.**"
      ]
    },
    {
      "cell_type": "markdown",
      "metadata": {
        "id": "zhn7Ji2xXNH2"
      },
      "source": [
        "### 1.8. What if the labels are not balanced? Can you name one possible solution to address it?"
      ]
    },
    {
      "cell_type": "markdown",
      "metadata": {
        "id": "oJF7vDomXNH2"
      },
      "source": [
        "[Discuss prompt here] \n",
        "\n",
        "**Answer: The accuracy might be good, the recall and precision might be bad. It becomes harder to predict inbalanced classes. One solution is to bootstrap and oversample the underrepresented classes.**"
      ]
    },
    {
      "cell_type": "markdown",
      "metadata": {
        "id": "b2O11gYjXNH2"
      },
      "source": [
        "### 1.9. Now that we have our dataframe prepared let's start analyzing our data. For this next question let's look at the correlations of our variables to our target value.  (hint: one possible approach you can use is corr() method from HW1)"
      ]
    },
    {
      "cell_type": "code",
      "metadata": {
        "id": "V17nzhW-XNH2"
      },
      "source": [
        "#get the corr_matrx usign corr()\n",
        "corr_matrix = heartdata.corr()"
      ],
      "execution_count": null,
      "outputs": []
    },
    {
      "cell_type": "code",
      "metadata": {
        "id": "uPTPr45GXNH3",
        "colab": {
          "base_uri": "https://localhost:8080/"
        },
        "outputId": "14462452-c42c-4349-a0f1-c131e60ccf48"
      },
      "source": [
        "# get the correlations specific to target and sort them in descending order\n",
        "corr_matrix['target'].sort_values(ascending = False)"
      ],
      "execution_count": null,
      "outputs": [
        {
          "output_type": "execute_result",
          "data": {
            "text/plain": [
              "target      1.000000\n",
              "exang       0.436757\n",
              "oldpeak     0.430696\n",
              "ca          0.391724\n",
              "thal        0.344029\n",
              "sex         0.280937\n",
              "age         0.225439\n",
              "trestbps    0.144931\n",
              "chol        0.085239\n",
              "fbs         0.028046\n",
              "restecg    -0.137230\n",
              "slope      -0.345877\n",
              "thalach    -0.421741\n",
              "cp         -0.433798\n",
              "Name: target, dtype: float64"
            ]
          },
          "metadata": {
            "tags": []
          },
          "execution_count": 28
        }
      ]
    },
    {
      "cell_type": "markdown",
      "metadata": {
        "id": "xFAeaSGPXNH3"
      },
      "source": [
        "[Discuss correlations here] \n",
        "\n",
        "**Answer: It looks likes restecg, trestbps, chol, and fbs seem to be very weakly correlated with target while all the other columns seem to be moderately correlated.**"
      ]
    },
    {
      "cell_type": "markdown",
      "metadata": {
        "id": "uXj-rYO2XNH3"
      },
      "source": [
        "## [25pt] Part 2. Prepare the Data and run a KNN Model"
      ]
    },
    {
      "cell_type": "markdown",
      "metadata": {
        "id": "M9M2_3ZaXNH3"
      },
      "source": [
        "Before running our various learning methods, we need to do some additional prep to finalize our data. Specifically you'll have to cut the classification target from the data that will be used to classify, and then you'll have to divide the dataset into training and testing cohorts.\n",
        "\n",
        "Specifically, we're going to ask you to prepare 2 batches of data: 1. Will simply be the raw numeric data that hasn't gone through any additional pre-processing. The other, will be data that you pipeline using your own selected methods. We will then feed both of these datasets into a classifier to showcase just how important this step can be!"
      ]
    },
    {
      "cell_type": "markdown",
      "metadata": {
        "id": "Nn4GrfrEXNH4"
      },
      "source": [
        "### 2.1. Save the label column as a separate array (let's name it as data_target) and then drop it from the dataframe. "
      ]
    },
    {
      "cell_type": "code",
      "metadata": {
        "id": "UboQCizJXNH4"
      },
      "source": [
        "target_name = 'target'\n",
        "heartdata_target = heartdata[target_name]\n",
        "heartdata = heartdata.drop([target_name], axis = 1)"
      ],
      "execution_count": null,
      "outputs": []
    },
    {
      "cell_type": "markdown",
      "metadata": {
        "id": "aOhmb1QAXNH4"
      },
      "source": [
        "### 2.2. First Create your 'Raw' unprocessed training data by dividing your dataframe into training and testing cohorts, with your training cohort consisting of 80% of your total dataframe (hint: use the train_test_split method) "
      ]
    },
    {
      "cell_type": "code",
      "metadata": {
        "id": "H34h6dkFXNH5"
      },
      "source": [
        "train_raw, test_raw, target_raw, target_raw_test = train_test_split(heartdata, heartdata_target, test_size = 0.2, random_state = 30)"
      ],
      "execution_count": null,
      "outputs": []
    },
    {
      "cell_type": "code",
      "metadata": {
        "colab": {
          "base_uri": "https://localhost:8080/"
        },
        "id": "74TTXisKQ-q4",
        "outputId": "c85a7e68-82c1-46b2-f334-8a8cb9c204b9"
      },
      "source": [
        "print(train_raw.shape)\n",
        "print(test_raw.shape)\n",
        "print(target_raw.shape)\n",
        "print(target_raw_test.shape)"
      ],
      "execution_count": null,
      "outputs": [
        {
          "output_type": "stream",
          "text": [
            "(242, 13)\n",
            "(61, 13)\n",
            "(242,)\n",
            "(61,)\n"
          ],
          "name": "stdout"
        }
      ]
    },
    {
      "cell_type": "markdown",
      "metadata": {
        "id": "KIC_923dXNH5"
      },
      "source": [
        "### 2.3. Output the resulting shapes of your training and testing samples to confirm that your split was successful."
      ]
    },
    {
      "cell_type": "code",
      "metadata": {
        "id": "1eKCeZWdXNH5",
        "colab": {
          "base_uri": "https://localhost:8080/"
        },
        "outputId": "1acde73d-825e-404d-d8d9-c82f6c005da0"
      },
      "source": [
        "print(train_raw.shape, target_raw.shape)\n",
        "print(test_raw.shape, target_raw_test.shape)"
      ],
      "execution_count": null,
      "outputs": [
        {
          "output_type": "stream",
          "text": [
            "(242, 13) (242,)\n",
            "(61, 13) (61,)\n"
          ],
          "name": "stdout"
        }
      ]
    },
    {
      "cell_type": "markdown",
      "metadata": {
        "id": "aZQ0cdJVXNH5"
      },
      "source": [
        "### 2.4. In lecture we learned about K-Nearest Neighbor. One thing we noted was because KNN's rely on Euclidean distance, they are highly sensitive to the relative magnitude of different features. Let's see that in action! Implement a K-Nearest Neighbor algorithm on our data and report the results. For this initial implementation simply use the default settings (K=5). Refer to the [KNN Documentation](https://scikit-learn.org/stable/modules/generated/sklearn.neighbors.KNeighborsClassifier.html) for details on implementation. Report on the accuracy of the resulting model."
      ]
    },
    {
      "cell_type": "code",
      "metadata": {
        "id": "RKxhsC3YXNH6",
        "colab": {
          "base_uri": "https://localhost:8080/"
        },
        "outputId": "c675caa2-f4c5-4e42-de69-556d5b39327e"
      },
      "source": [
        "# KNN algorithm KNeighborsClassifier()\n",
        "'''\n",
        "1.) create KNeighborsClassifier() object\n",
        "2.) fit data\n",
        "3.) predict the test data, and assign to variable \"raw_predicted\" since we provide the template in below cell\n",
        "'''\n",
        "''' your code goes below here'''\n",
        "\n",
        "knnclassifier = KNeighborsClassifier()\n",
        "knnclassifier.fit(train_raw, target_raw)\n",
        "raw_predicted = knnclassifier.predict(test_raw)\n",
        "raw_predicted\n"
      ],
      "execution_count": null,
      "outputs": [
        {
          "output_type": "execute_result",
          "data": {
            "text/plain": [
              "array([1, 0, 1, 1, 1, 1, 0, 0, 1, 0, 1, 0, 1, 0, 0, 0, 1, 1, 1, 1, 0, 0,\n",
              "       0, 1, 0, 1, 1, 1, 0, 1, 1, 1, 1, 1, 1, 1, 1, 1, 1, 0, 1, 0, 0, 0,\n",
              "       1, 0, 0, 0, 1, 1, 1, 1, 0, 1, 0, 0, 1, 1, 1, 1, 1])"
            ]
          },
          "metadata": {
            "tags": []
          },
          "execution_count": 52
        }
      ]
    },
    {
      "cell_type": "markdown",
      "metadata": {
        "id": "57cM958DXNH6"
      },
      "source": [
        "### 2.5. Report on the accuracy of the resulting model."
      ]
    },
    {
      "cell_type": "code",
      "metadata": {
        "id": "zfp_xVmuXNH6",
        "colab": {
          "base_uri": "https://localhost:8080/"
        },
        "outputId": "29c56cc2-8f37-474b-ee12-c4f95476afb9"
      },
      "source": [
        "# use metrics.accuracy_score()\n",
        "'''uncomment this below line to print accuracy'''\n",
        "print('Accuracy:', metrics.accuracy_score(target_raw_test,raw_predicted))"
      ],
      "execution_count": null,
      "outputs": [
        {
          "output_type": "stream",
          "text": [
            "Accuracy: 0.6065573770491803\n"
          ],
          "name": "stdout"
        }
      ]
    },
    {
      "cell_type": "markdown",
      "metadata": {
        "id": "ghLaWkVgXNH6"
      },
      "source": [
        "#### report other metrics and draw confusion matrix using the helper function defined in the beginning"
      ]
    },
    {
      "cell_type": "code",
      "metadata": {
        "id": "9wMqVY0kXNH7",
        "colab": {
          "base_uri": "https://localhost:8080/",
          "height": 381
        },
        "outputId": "dd511529-6da5-4940-f377-f56a2ad08e07"
      },
      "source": [
        "print(\"%-12s %f\" % ('Precision:', metrics.precision_score(target_raw_test, raw_predicted,labels=None, pos_label=1, average='binary', sample_weight=None)))\n",
        "print(\"%-12s %f\" % ('Recall:', metrics.recall_score(target_raw_test, raw_predicted,labels=None, pos_label=1, average='binary', sample_weight=None)))\n",
        "print(\"%-12s %f\" % ('F1 Score:', metrics.f1_score(target_raw_test, raw_predicted,labels=None, pos_label=1, average='binary', sample_weight=None)))\n",
        "\n",
        "print(\"Confusion Matrix: \\n\")\n",
        "draw_confusion_matrix(target_raw_test, raw_predicted, ['Healthy', 'Sick'])"
      ],
      "execution_count": null,
      "outputs": [
        {
          "output_type": "stream",
          "text": [
            "Precision:   0.500000\n",
            "Recall:      0.791667\n",
            "F1 Score:    0.612903\n",
            "Confusion Matrix: \n",
            "\n"
          ],
          "name": "stdout"
        },
        {
          "output_type": "display_data",
          "data": {
            "image/png": "[encoded data removed]",
            "text/plain": [
              "<Figure size 432x288 with 2 Axes>"
            ]
          },
          "metadata": {
            "tags": [],
            "needs_background": "light"
          }
        }
      ]
    },
    {
      "cell_type": "markdown",
      "metadata": {
        "id": "euhRpTfGXNH7"
      },
      "source": [
        "### 2.6. Now implement a pipeline of your choice. You can opt to handle categoricals however you wish, however please scale your numeric features using standard scaler. Please refer to HW1 (note you don't have to do data augmentation here)."
      ]
    },
    {
      "cell_type": "markdown",
      "metadata": {
        "id": "5fJ9CtNMXNH7"
      },
      "source": [
        "#### Pipeline:"
      ]
    },
    {
      "cell_type": "code",
      "metadata": {
        "id": "KoL3Lg0AXNH7"
      },
      "source": [
        "''' don't forget to drop binary data when doing scaling(i.e. sex, since it is 0 and 1) '''\n",
        "''' your code goes below here'''\n",
        "from sklearn.impute import SimpleImputer\n",
        "from sklearn.pipeline import Pipeline\n",
        "from sklearn.preprocessing import StandardScaler\n",
        "from sklearn.preprocessing import OneHotEncoder\n",
        "from sklearn.compose import ColumnTransformer\n",
        "\n",
        "imp = SimpleImputer()\n",
        "num_pipeline = Pipeline([('imputer', imp), ('scaler', StandardScaler())])\n",
        "cat_encoder = OneHotEncoder(drop = 'first')\n",
        "full_pipeline = ColumnTransformer([\n",
        "     ('num', num_pipeline, heartdata._get_numeric_data().columns),\n",
        "     ('cat', cat_encoder, heartdata.select_dtypes(['object']).columns)\n",
        "    ])"
      ],
      "execution_count": null,
      "outputs": []
    },
    {
      "cell_type": "markdown",
      "metadata": {
        "id": "K8DEZBqkXNH7"
      },
      "source": [
        "#### take a look at your prepared data"
      ]
    },
    {
      "cell_type": "code",
      "metadata": {
        "id": "VT_rt86CXNH8",
        "colab": {
          "base_uri": "https://localhost:8080/"
        },
        "outputId": "0211ba37-34e1-4491-dfe7-a6fba0e00e93"
      },
      "source": [
        "heart_prepared = full_pipeline.fit_transform(heartdata)\n",
        "heart_prepared"
      ],
      "execution_count": null,
      "outputs": [
        {
          "output_type": "execute_result",
          "data": {
            "text/plain": [
              "array([[ 0.9521966 ,  0.68100522,  1.97312292, ..., -2.27457861,\n",
              "        -0.71442887, -2.14887271],\n",
              "       [-1.91531289,  0.68100522,  1.00257707, ..., -2.27457861,\n",
              "        -0.71442887, -0.51292188],\n",
              "       [-1.47415758, -1.46841752,  0.03203122, ...,  0.97635214,\n",
              "        -0.71442887, -0.51292188],\n",
              "       ...,\n",
              "       [ 1.50364073,  0.68100522, -0.93851463, ..., -0.64911323,\n",
              "         1.24459328,  1.12302895],\n",
              "       [ 0.29046364,  0.68100522, -0.93851463, ..., -0.64911323,\n",
              "         0.26508221,  1.12302895],\n",
              "       [ 0.29046364, -1.46841752,  0.03203122, ..., -0.64911323,\n",
              "         0.26508221, -0.51292188]])"
            ]
          },
          "metadata": {
            "tags": []
          },
          "execution_count": 76
        }
      ]
    },
    {
      "cell_type": "markdown",
      "metadata": {
        "id": "FE8IPNcOXNH8"
      },
      "source": [
        "### 2.7. Now split your pipelined data into an 80/20 split and again run the same KNN, and report out on it's accuracy. Discuss the implications of the different results you are obtaining."
      ]
    },
    {
      "cell_type": "markdown",
      "metadata": {
        "id": "NOpjIgPyXNH8"
      },
      "source": [
        "#### split your data"
      ]
    },
    {
      "cell_type": "code",
      "metadata": {
        "id": "Jh_pUWvgXNH8"
      },
      "source": [
        "X_train, X_test, y_train, y_test = train_test_split(heart_prepared, heartdata_target, test_size = 0.2, random_state = 30)"
      ],
      "execution_count": null,
      "outputs": []
    },
    {
      "cell_type": "markdown",
      "metadata": {
        "id": "qL3GcREcXNH8"
      },
      "source": [
        "####  run KNN and report accuracy, precision, recall, and confusion matrix."
      ]
    },
    {
      "cell_type": "code",
      "metadata": {
        "id": "2I8r-Uf_XNH9"
      },
      "source": [
        "# KNN algorithm KNeighborsClassifier()\n",
        "'''\n",
        "1.) create KNeighborsClassifier() object\n",
        "2.) fit data\n",
        "3.) predict the test data, and assign to variable \"predicted\" since we provide the template in below cell\n",
        "'''\n",
        "''' your code goes below here'''\n",
        "knn = KNeighborsClassifier()\n",
        "knn.fit(X_train, y_train)\n",
        "knn_pred = knn.predict(X_test)"
      ],
      "execution_count": null,
      "outputs": []
    },
    {
      "cell_type": "code",
      "metadata": {
        "id": "yHl1nid0ahcV"
      },
      "source": [
        "#feel free to use this helper function to print accuracy, precision, recall, F1\n",
        "def print_4_metrics(target_test, predicted):\n",
        "  print(\"%-12s %f\" % ('Accuracy:', metrics.accuracy_score(target_test,predicted)))\n",
        "  print(\"%-12s %f\" % ('Precision:', metrics.precision_score(target_test, predicted,labels=None, pos_label=1, average='binary', sample_weight=None)))\n",
        "  print(\"%-12s %f\" % ('Recall:', metrics.recall_score(target_test, predicted,labels=None, pos_label=1, average='binary', sample_weight=None)))\n",
        "  print(\"%-12s %f\" % ('F1 Score:', metrics.f1_score(target_test, predicted,labels=None, pos_label=1, average='binary', sample_weight=None)))\n"
      ],
      "execution_count": null,
      "outputs": []
    },
    {
      "cell_type": "code",
      "metadata": {
        "id": "8248VJV6XNH9",
        "colab": {
          "base_uri": "https://localhost:8080/",
          "height": 364
        },
        "outputId": "8b51ebed-fb48-4e05-8bbf-acdfafdc2415"
      },
      "source": [
        "#use sklearn metrics to display metrics values-> metrics.accuracy_score()\n",
        "'''print out metrics here'''\n",
        "print_4_metrics(y_test, knn_pred)\n",
        "\n",
        "'''end printing out metrics'''\n",
        "draw_confusion_matrix(y_test, knn_pred, ['Healthy', 'Sick'])\n"
      ],
      "execution_count": null,
      "outputs": [
        {
          "output_type": "stream",
          "text": [
            "Accuracy:    0.819672\n",
            "Precision:   0.724138\n",
            "Recall:      0.875000\n",
            "F1 Score:    0.792453\n"
          ],
          "name": "stdout"
        },
        {
          "output_type": "display_data",
          "data": {
            "image/png": "[encoded data removed]",
            "text/plain": [
              "<Figure size 432x288 with 2 Axes>"
            ]
          },
          "metadata": {
            "tags": [],
            "needs_background": "light"
          }
        }
      ]
    },
    {
      "cell_type": "markdown",
      "metadata": {
        "id": "HXrtGXCrXNH9"
      },
      "source": [
        "[Discuss Results here]\n",
        "\n",
        "**Answer: We have 3 false positives and 8 false negatives. It seemed to perform pretty well.**"
      ]
    },
    {
      "cell_type": "markdown",
      "metadata": {
        "id": "uBt8ToBSXNH-"
      },
      "source": [
        "### 2.8. Model Selection on K.  As discussed in class, the KNN Algorithm includes an n_neighbors (k) attribute that specifies how many neighbors to use when developing the cluster. (The default value is 5, which is what your previous model used.) Lets now try n_neighbors (k) values of: 1, 2, 3, 5, 7, 9, 10, 20, and 200. Run your model for each value and report the accuracy for each. (HINT leverage python's ability to loop to run through the array and generate results without needing to manually code each iteration)."
      ]
    },
    {
      "cell_type": "code",
      "metadata": {
        "id": "xFJPujbdXNH-",
        "colab": {
          "base_uri": "https://localhost:8080/"
        },
        "outputId": "4260b301-b37e-4a0d-fb62-bc3af140edce"
      },
      "source": [
        "k_values = [1,2,3,5,7,9,10,20,200]\n",
        "\n",
        "for k in k_values:\n",
        "    # run knn here:\n",
        "    # note: when create KNN object, assign parameter \"n_neighbors\" to k\n",
        "    # referece: https://scikit-learn.org/stable/modules/generated/sklearn.neighbors.KNeighborsClassifier.html\n",
        "    '''your code goes below here'''\n",
        "    knn = KNeighborsClassifier(n_neighbors = k)\n",
        "    knn.fit(X_train, y_train)\n",
        "    knn_pred = knn.predict(X_test)\n",
        "\n",
        "    # report the accuracy here:\n",
        "    # note: print out k value and use metrics.accuracy_score() do show accuracy\n",
        "    '''your code goes below here'''\n",
        "    print(k, metrics.accuracy_score(y_test, knn_pred))\n",
        "    "
      ],
      "execution_count": null,
      "outputs": [
        {
          "output_type": "stream",
          "text": [
            "1 0.6885245901639344\n",
            "2 0.7377049180327869\n",
            "3 0.8032786885245902\n",
            "5 0.819672131147541\n",
            "7 0.819672131147541\n",
            "9 0.819672131147541\n",
            "10 0.819672131147541\n",
            "20 0.8524590163934426\n",
            "200 0.7868852459016393\n"
          ],
          "name": "stdout"
        }
      ]
    },
    {
      "cell_type": "markdown",
      "metadata": {
        "id": "_7iqIU64XNH-"
      },
      "source": [
        "## Part 3. Additional Learning Methods "
      ]
    },
    {
      "cell_type": "markdown",
      "metadata": {
        "id": "DWvtbg9HXNH-"
      },
      "source": [
        "So we have a model that seems to work well. But let's see if we can do better! To do so we'll employ multiple learning methods and compare result."
      ]
    },
    {
      "cell_type": "markdown",
      "metadata": {
        "id": "3MK0yuhhXNH_"
      },
      "source": [
        "## 3. Linear Decision Boundary Methods "
      ]
    },
    {
      "cell_type": "markdown",
      "metadata": {
        "id": "vvJdjHa_XNH_"
      },
      "source": [
        "### [25pt] 3.1. Logistic Regression"
      ]
    },
    {
      "cell_type": "markdown",
      "metadata": {
        "id": "P-B2oidUXNH_"
      },
      "source": [
        "Let's now try another classifier, we introduced in lecture, one that's well known for handling linear models: Logistic Regression. Logistic regression is a statistical model that in its basic form uses a logistic function to model a binary dependent variable."
      ]
    },
    {
      "cell_type": "markdown",
      "metadata": {
        "id": "Brk8-ivaXNIA"
      },
      "source": [
        "### 3.1.1. Implement a Logistical Regression Classifier. Review the [Logistical Regression Documentation](https://scikit-learn.org/stable/modules/generated/sklearn.linear_model.LogisticRegression.html) for how to implement the model. Report accuracy, precision, Recall, F1 score, plot the resulting ROC curve, and report area under ROC curve."
      ]
    },
    {
      "cell_type": "code",
      "metadata": {
        "id": "_fw7xKryXNIA"
      },
      "source": [
        "# run logistic regression here\n",
        "'''\n",
        "1.) create LogisticRegression() object\n",
        "2.) fit your train data\n",
        "3.) predict the test data, and assign to variable \"log_predicted\" \n",
        "  since we will use it in below cell\n",
        "4.) use log_reg.predict_proba(test)[:,1] and assign to variable \"log_score\"\n",
        "  NOTE: predict_proba() will return \n",
        "  [probability of data belongs to class 0, probability of data belongs to class 1]\n",
        "  and we want to get probability of data belongs to class 1. That's why we slice\n",
        "  the array by only getting the column 1\n",
        "  NOTE: predict() returns 0 or 1, while predict_proba() returns float between 0 and 1\n",
        "'''\n",
        "'''your code below here'''\n",
        "log_reg = LogisticRegression()\n",
        "log_reg.fit(X_train, y_train)\n",
        "log_reg_pred = log_reg.predict(X_test)\n",
        "log_score = log_reg.predict_proba(X_test)[:,1]"
      ],
      "execution_count": null,
      "outputs": []
    },
    {
      "cell_type": "code",
      "metadata": {
        "id": "A2DvZNp7XNIA",
        "colab": {
          "base_uri": "https://localhost:8080/"
        },
        "outputId": "2bb9747f-ef14-4287-c2ca-76b21c90defa"
      },
      "source": [
        "# report accuracy, precision, Recall, and F1 score\n",
        "print_4_metrics(y_test, log_reg_pred)"
      ],
      "execution_count": null,
      "outputs": [
        {
          "output_type": "stream",
          "text": [
            "Accuracy:    0.868852\n",
            "Precision:   0.785714\n",
            "Recall:      0.916667\n",
            "F1 Score:    0.846154\n"
          ],
          "name": "stdout"
        }
      ]
    },
    {
      "cell_type": "code",
      "metadata": {
        "id": "NIM0qoO3XNIB",
        "colab": {
          "base_uri": "https://localhost:8080/",
          "height": 346
        },
        "outputId": "386fa402-3a9a-45db-c5e0-2cc61c005a9c"
      },
      "source": [
        "# Plot ROC curve and report area under ROC\n",
        "# use metrics.roc_curve(your y_test, predicted probabilities for y_test)\n",
        "\n",
        "fpr_log_reg, tpr_log_reg, thresholds = metrics.roc_curve(y_test,log_score)\n",
        "print(\"Logistic Model Performance Results:\\n\")\n",
        "pyplot.figure(1)\n",
        "pyplot.plot(fpr_log_reg, tpr_log_reg, color='orange', lw=1)\n",
        "pyplot.title(\"ROC curve with Logistic Regression\")\n",
        "pyplot.xlabel('FPR')\n",
        "pyplot.ylabel('TPR')\n",
        "\n",
        "\n",
        "\n",
        "# report auc \n",
        "# use metrics.auc(fpr, tpr)\n",
        "aucroc = metrics.auc(fpr_log_reg, tpr_log_reg)\n",
        "print('AUC of ROC: ', aucroc)\n"
      ],
      "execution_count": null,
      "outputs": [
        {
          "output_type": "stream",
          "text": [
            "Logistic Model Performance Results:\n",
            "\n",
            "AUC of ROC:  0.9279279279279279\n"
          ],
          "name": "stdout"
        },
        {
          "output_type": "display_data",
          "data": {
            "image/png": "[encoded data removed]",
            "text/plain": [
              "<Figure size 432x288 with 1 Axes>"
            ]
          },
          "metadata": {
            "tags": [],
            "needs_background": "light"
          }
        }
      ]
    },
    {
      "cell_type": "code",
      "metadata": {
        "id": "gMJXG02QXNIB",
        "colab": {
          "base_uri": "https://localhost:8080/",
          "height": 330
        },
        "outputId": "4337a046-d5aa-4c79-b8f7-b5c38e0b7579"
      },
      "source": [
        "print(\"Confusion Matrix: \\n\")\n",
        "draw_confusion_matrix(y_test, log_reg_pred, ['Healthy', 'Sick'])"
      ],
      "execution_count": null,
      "outputs": [
        {
          "output_type": "stream",
          "text": [
            "Confusion Matrix: \n",
            "\n"
          ],
          "name": "stdout"
        },
        {
          "output_type": "display_data",
          "data": {
            "image/png": "[encoded data removed]",
            "text/plain": [
              "<Figure size 432x288 with 2 Axes>"
            ]
          },
          "metadata": {
            "tags": [],
            "needs_background": "light"
          }
        }
      ]
    },
    {
      "cell_type": "markdown",
      "metadata": {
        "id": "98zo095zXNIB"
      },
      "source": [
        "### 3.1.3. Let's tweak a few settings. First let's set penalty = 'none' and rerun your model. Let's see how your results change!"
      ]
    },
    {
      "cell_type": "code",
      "metadata": {
        "id": "2IGnInZOXNIC"
      },
      "source": [
        "# run logistic regression here \n",
        "'''\n",
        "1.) create LogisticRegression() object, while specify its parameter \"penalty\" to \"none\"\n",
        "2.) fit your train data\n",
        "3.) predict the test data, and assign to variable \"log_predicted\" \n",
        "  since we will use it in below cell\n",
        "4.) use log_reg.predict_proba(test)[:,1] and assign to variable \"log_score\"\n",
        "'''\n",
        "'''your code goes here'''\n",
        "\n",
        "log_reg = LogisticRegression(penalty = 'none')\n",
        "log_reg.fit(X_train, y_train)\n",
        "log_reg_pred = log_reg.predict(X_test)\n",
        "log_score = log_reg.predict_proba(X_test)[:,1]"
      ],
      "execution_count": null,
      "outputs": []
    },
    {
      "cell_type": "code",
      "metadata": {
        "id": "iZ3DNvaYXNIC",
        "colab": {
          "base_uri": "https://localhost:8080/"
        },
        "outputId": "25d499c7-c90d-4919-ff42-f648980ac9a4"
      },
      "source": [
        "# report accuracy and F1 score\n",
        "print_4_metrics(y_test, log_reg_pred)"
      ],
      "execution_count": null,
      "outputs": [
        {
          "output_type": "stream",
          "text": [
            "Accuracy:    0.852459\n",
            "Precision:   0.758621\n",
            "Recall:      0.916667\n",
            "F1 Score:    0.830189\n"
          ],
          "name": "stdout"
        }
      ]
    },
    {
      "cell_type": "code",
      "metadata": {
        "id": "DojefdaJXNIC",
        "colab": {
          "base_uri": "https://localhost:8080/",
          "height": 346
        },
        "outputId": "38db651d-bd68-4459-bc43-dab75f56dfae"
      },
      "source": [
        "# Plot ROC curve and report area under ROC\n",
        "# use metrics.roc_curve(your y_test, predicted probabilities for y_test)\n",
        "# feel free to use the same code from 3.1.1\n",
        "'''plotting code goes here'''\n",
        "fpr_log_reg, tpr_log_reg, thresholds = metrics.roc_curve(y_test,log_score)\n",
        "print(\"Logistic Model Performance Results:\\n\")\n",
        "pyplot.figure(1)\n",
        "pyplot.plot(fpr_log_reg, tpr_log_reg, color='orange', lw=1)\n",
        "pyplot.title(\"ROC curve with Logistic Regression\")\n",
        "pyplot.xlabel('FPR')\n",
        "pyplot.ylabel('TPR')\n",
        "\n",
        "'''end plotting code'''\n",
        "# report auc \n",
        "# use metrics.auc(fpr, tpr)\n",
        "aucroc = metrics.auc(fpr_log_reg, tpr_log_reg)\n",
        "print('AUC of ROC: ', aucroc)\n"
      ],
      "execution_count": null,
      "outputs": [
        {
          "output_type": "stream",
          "text": [
            "Logistic Model Performance Results:\n",
            "\n",
            "AUC of ROC:  0.9279279279279279\n"
          ],
          "name": "stdout"
        },
        {
          "output_type": "display_data",
          "data": {
            "image/png": "[encoded data removed]",
            "text/plain": [
              "<Figure size 432x288 with 1 Axes>"
            ]
          },
          "metadata": {
            "tags": [],
            "needs_background": "light"
          }
        }
      ]
    },
    {
      "cell_type": "markdown",
      "metadata": {
        "id": "_-sbzd6eXNIC"
      },
      "source": [
        "### 3.1.4 Rerun your logistic classifier, but modify the penalty = 'l1', solver = 'liblinear', and again report the results."
      ]
    },
    {
      "cell_type": "code",
      "metadata": {
        "id": "D3CmXqHHXNID",
        "colab": {
          "base_uri": "https://localhost:8080/",
          "height": 413
        },
        "outputId": "8f051d42-d7ce-4a7b-a944-d7d500558564"
      },
      "source": [
        "''' repeat the same process as 3.1.3 but change parameters as the question specifies'''\n",
        "# run logistic regression here \n",
        "log_reg = LogisticRegression(penalty = 'l1', solver = 'liblinear')\n",
        "log_reg.fit(X_train, y_train)\n",
        "log_reg_pred = log_reg.predict(X_test)\n",
        "log_score = log_reg.predict_proba(X_test)[:,1]\n",
        "\n",
        "# report accuracy and F1 score\n",
        "print_4_metrics(y_test, log_reg_pred)\n",
        "\n",
        "# Plot ROC curve and report area under ROC\n",
        "# use metrics.roc_curve(your y_test, predicted probabilities for y_test)\n",
        "fpr_log_reg, tpr_log_reg, thresholds = metrics.roc_curve(y_test,log_score)\n",
        "print(\"Logistic Model Performance Results:\\n\")\n",
        "pyplot.figure(1)\n",
        "pyplot.plot(fpr_log_reg, tpr_log_reg, color='orange', lw=1)\n",
        "pyplot.title(\"ROC curve with Logistic Regression\")\n",
        "pyplot.xlabel('FPR')\n",
        "pyplot.ylabel('TPR')\n",
        "\n",
        "# report auc \n",
        "# use metrics.auc(fpr, tpr)\n",
        "aucroc = metrics.auc(fpr_log_reg, tpr_log_reg)\n",
        "print('AUC of ROC: ', aucroc)\n"
      ],
      "execution_count": null,
      "outputs": [
        {
          "output_type": "stream",
          "text": [
            "Accuracy:    0.852459\n",
            "Precision:   0.758621\n",
            "Recall:      0.916667\n",
            "F1 Score:    0.830189\n",
            "Logistic Model Performance Results:\n",
            "\n",
            "AUC of ROC:  0.9279279279279279\n"
          ],
          "name": "stdout"
        },
        {
          "output_type": "display_data",
          "data": {
            "image/png": "[encoded data removed]",
            "text/plain": [
              "<Figure size 432x288 with 1 Axes>"
            ]
          },
          "metadata": {
            "tags": [],
            "needs_background": "light"
          }
        }
      ]
    },
    {
      "cell_type": "markdown",
      "metadata": {
        "id": "_QYPIbXQXNID"
      },
      "source": [
        "###  3.1.5. We played around with different penalty terms (none, L1 etc.) Describe what the purpose of a penalty term. Does it improve results in our case?"
      ]
    },
    {
      "cell_type": "code",
      "metadata": {
        "id": "EFlnXmBMXNID",
        "colab": {
          "base_uri": "https://localhost:8080/"
        },
        "outputId": "d847f032-b1b7-43ea-8e65-cc76328b29e0"
      },
      "source": [
        "#Hint: do you see any zeros? Those are related to the penalty terms.\n",
        "#print model.coef_\n",
        "log_reg.coef_"
      ],
      "execution_count": null,
      "outputs": [
        {
          "output_type": "execute_result",
          "data": {
            "text/plain": [
              "array([[ 3.90424106e-04,  7.34033106e-01, -9.05905900e-01,\n",
              "         2.91591358e-01,  2.46680407e-01,  3.08643333e-02,\n",
              "        -1.42425149e-01, -4.19529830e-01,  4.01220744e-01,\n",
              "         6.04688949e-01, -4.71574354e-01,  8.21214083e-01,\n",
              "         4.97687646e-01]])"
            ]
          },
          "metadata": {
            "tags": []
          },
          "execution_count": 113
        }
      ]
    },
    {
      "cell_type": "markdown",
      "metadata": {
        "id": "WriGeLtSXNID"
      },
      "source": [
        "[Discuss prompt here]\n",
        "\n",
        "**Answer: The purpose of penalty terms is regularization, which prevents overfitting. It did not improve the results.**"
      ]
    },
    {
      "cell_type": "markdown",
      "metadata": {
        "id": "qx89pWRLXNIE"
      },
      "source": [
        "### [20pt] 3.2. SVM (Support Vector Machine)"
      ]
    },
    {
      "cell_type": "markdown",
      "metadata": {
        "id": "mOMAEmShXNIE"
      },
      "source": [
        "A Support Vector Machine (SVM) is a discriminative classifier formally defined by a separating hyperplane. In other words, given labeled training data (supervised learning), the algorithm outputs an optimal hyperplane which categorizes new examples. In two dimentional space this hyperplane is a line dividing a plane in two parts where in each class lay in either side."
      ]
    },
    {
      "cell_type": "markdown",
      "metadata": {
        "id": "gr0AGpavXNIF"
      },
      "source": [
        "### 3.2.1 Implement a Support Vector Machine classifier on your pipelined data. Review the [SVM Documentation](https://scikit-learn.org/stable/modules/generated/sklearn.svm.SVC.html) for how to implement a model. For this implementation you can simply use the default settings, but set probability = True."
      ]
    },
    {
      "cell_type": "code",
      "metadata": {
        "id": "1spdtl7oXNIG"
      },
      "source": [
        "# run SVM\n",
        "'''\n",
        "1.) create SVC() object, while specify its parameter \"probability\" to \"True\"\n",
        "2.) fit your train data\n",
        "3.) predict the test data. and assign to a variable  \n",
        "  because we will use it in below cell\n",
        "4.) use svm.predict_proba(test)[:,1] and assign to a variable\n",
        "  because we will use it in below cell\n",
        "'''\n",
        "'''your code goes below here'''\n",
        "svm = SVC(probability = True)\n",
        "svm.fit(X_train, y_train)\n",
        "svm_pred = svm.predict(X_test)\n",
        "svm_score = svm.predict_proba(X_test)[:,1]"
      ],
      "execution_count": null,
      "outputs": []
    },
    {
      "cell_type": "markdown",
      "metadata": {
        "id": "pGfIBazWXNIG"
      },
      "source": [
        "### 3.2.2 Report the accuracy, precision, recall, F1 Score, and ROC Curve of the resulting model."
      ]
    },
    {
      "cell_type": "code",
      "metadata": {
        "id": "ivAB6kkPXNIG",
        "colab": {
          "base_uri": "https://localhost:8080/",
          "height": 413
        },
        "outputId": "38da6c44-1c32-4c07-e33e-325221578447"
      },
      "source": [
        "# report accuracy and F1 score\n",
        "# feel free to use print_4_metrics()\n",
        "'''your code goes below here'''\n",
        "print_4_metrics(y_test, svm_pred)\n",
        "\n",
        "# Plot ROC curve and report area under ROC\n",
        "# use metrics.roc_curve(your y_test, predicted probabilities for y_test)\n",
        "# feel free to use the same code as 3.1.1.\n",
        "'''your code goes below here'''\n",
        "fpr_svm, tpr_svm, thresholds = metrics.roc_curve(y_test, svm_score)\n",
        "print(\"SVM Performance Results:\\n\")\n",
        "pyplot.figure(1)\n",
        "pyplot.plot(fpr_svm, tpr_svm, color='orange', lw=1)\n",
        "pyplot.title(\"ROC curve with SVM\")\n",
        "pyplot.xlabel('FPR')\n",
        "pyplot.ylabel('TPR')\n",
        "\n",
        "# report auc \n",
        "# use metrics.auc(fpr, tpr)\n",
        "aucroc = metrics.auc(fpr_svm, tpr_svm)\n",
        "print('AUC of ROC: ', aucroc)"
      ],
      "execution_count": null,
      "outputs": [
        {
          "output_type": "stream",
          "text": [
            "Accuracy:    0.803279\n",
            "Precision:   0.700000\n",
            "Recall:      0.875000\n",
            "F1 Score:    0.777778\n",
            "SVM Performance Results:\n",
            "\n",
            "AUC of ROC:  0.9042792792792793\n"
          ],
          "name": "stdout"
        },
        {
          "output_type": "display_data",
          "data": {
            "image/png": "[encoded data removed]",
            "text/plain": [
              "<Figure size 432x288 with 1 Axes>"
            ]
          },
          "metadata": {
            "tags": [],
            "needs_background": "light"
          }
        }
      ]
    },
    {
      "cell_type": "markdown",
      "metadata": {
        "id": "4xJevqNvXNIH"
      },
      "source": [
        "### 3.2.3.  Rerun your SVM, but now modify your model parameter kernel to equal 'linear'. Again report your Accuracy, Precision, Recall, F1 scores, and plot the new ROC curve.  "
      ]
    },
    {
      "cell_type": "code",
      "metadata": {
        "id": "PMD7ZATxXNIH"
      },
      "source": [
        "# run SVM\n",
        "'''\n",
        "1.) create SVC() object like 3.2.2, but change parameter 'kernel' to 'linear' as the question specifies\n",
        "2.) fit your train data\n",
        "3.) predict the test data. and assign to a variable  \n",
        "  because we will use it in below cell\n",
        "4.) use svm.predict_proba(test)[:,1] and assign to a variable\n",
        "  bacause we will use it in below cell\n",
        "'''\n",
        "''' your code goes below here'''\n",
        "svm = SVC(kernel = 'linear', probability = True)\n",
        "svm.fit(X_train, y_train)\n",
        "svm_pred = svm.predict(X_test)\n",
        "svm_score = svm.predict_proba(X_test)[:,1]\n",
        "\n"
      ],
      "execution_count": null,
      "outputs": []
    },
    {
      "cell_type": "code",
      "metadata": {
        "id": "Z9-S1O-OXNII",
        "colab": {
          "base_uri": "https://localhost:8080/",
          "height": 413
        },
        "outputId": "1dc15eef-8009-4ad8-c7f8-c7d69fdce7de"
      },
      "source": [
        "''' repeat the same process as 3.2.2'''\n",
        "# report accuracy and F1 score\n",
        "\n",
        "# Plot ROC curve and report area under ROC\n",
        "# use metrics.roc_curve(your y_test, predicted probabilities for y_test)\n",
        "print_4_metrics(y_test, svm_pred)\n",
        "\n",
        "'''your code goes below here'''\n",
        "fpr_svm, tpr_svm, thresholds = metrics.roc_curve(y_test, svm_score)\n",
        "print(\"SVM Performance Results:\\n\")\n",
        "pyplot.figure(1)\n",
        "pyplot.plot(fpr_svm, tpr_svm, color='orange', lw=1)\n",
        "pyplot.title(\"ROC curve with SVM\")\n",
        "pyplot.xlabel('FPR')\n",
        "pyplot.ylabel('TPR')\n",
        "\n",
        "# report auc \n",
        "# use metrics.auc(fpr, tpr)\n",
        "aucroc = metrics.auc(fpr_svm, tpr_svm)\n",
        "print('AUC of ROC: ', aucroc)"
      ],
      "execution_count": null,
      "outputs": [
        {
          "output_type": "stream",
          "text": [
            "Accuracy:    0.852459\n",
            "Precision:   0.800000\n",
            "Recall:      0.833333\n",
            "F1 Score:    0.816327\n",
            "SVM Performance Results:\n",
            "\n",
            "AUC of ROC:  0.9211711711711712\n"
          ],
          "name": "stdout"
        },
        {
          "output_type": "display_data",
          "data": {
            "image/png": "[encoded data removed]",
            "text/plain": [
              "<Figure size 432x288 with 1 Axes>"
            ]
          },
          "metadata": {
            "tags": [],
            "needs_background": "light"
          }
        }
      ]
    },
    {
      "cell_type": "markdown",
      "metadata": {
        "id": "oztVaekxXNII"
      },
      "source": [
        "### 3.2.4 Explain what the new results you've achieved mean. Read the documentation to understand what you've changed about your model and explain why changing that input parameter might impact the results in the manner you've observed. (HINT: changed default kernel to linear kernel)"
      ]
    },
    {
      "cell_type": "markdown",
      "metadata": {
        "id": "6TF3NT_3XNII"
      },
      "source": [
        "[Discuss Prompt here]\n",
        "\n",
        "**Answer: Previously, the default kernel was the radial basis fuction which made the decision boundary a hyper sphere. The linear kernel makes the data linearly seperable so now the decision is a hyper plane. Because we are changing the decision boudary, it makes a great impact on our results**"
      ]
    },
    {
      "cell_type": "markdown",
      "metadata": {
        "id": "jnajoFPIXNII"
      },
      "source": [
        "## [10pt + bonus 10pt] Part 4: Cross Validation and Model Selection"
      ]
    },
    {
      "cell_type": "markdown",
      "metadata": {
        "id": "Tyy0SM1sXNIJ"
      },
      "source": [
        "You've sampled a number of different classification techniques, as well as experimented with tweak different parameters to optimize perfiormance. Based on these experiments you should have settled on a particular model that performs most optimally on the chosen dataset. \n",
        "\n",
        "Before our work is done though, we want to ensure that our results are not the result of the random sampling of our data we did with the Train-Test-Split. To ensure otherwise we will conduct a K-Fold Cross-Validation of our top two performing models, assess their cumulative performance across folds, and determine the best model for our particular data. "
      ]
    },
    {
      "cell_type": "markdown",
      "metadata": {
        "id": "2QPgGP5TXNIJ"
      },
      "source": [
        "## [10pt] 4.1. Select your top 2 performing models and run a K-Fold Cross Validation on both (use 10 folds). Replace the corresponding code in the cell below. Report your best performing model. "
      ]
    },
    {
      "cell_type": "code",
      "metadata": {
        "id": "AeLheTOGXNIJ",
        "colab": {
          "base_uri": "https://localhost:8080/"
        },
        "outputId": "371a0943-1989-4c1e-e042-f8ff7e91caa7"
      },
      "source": [
        "from sklearn.model_selection import KFold\n",
        "from sklearn import model_selection\n",
        "\n",
        "# First we define our cross-validation model parameters. In this case we're going to use KFold, with 10 splits\n",
        "# where we first shuffle our data before splitting it, and use a random seed to ensure a consistent repeatable shuffle\n",
        "kfold = model_selection.KFold(n_splits=10, random_state=42, shuffle=True) \n",
        "\n",
        "# replace the two models below with what you picked\n",
        "log_model_kfold = LogisticRegression()\n",
        "svc_model_kfold = SVC(kernel = \"linear\", probability = True)\n",
        "\n",
        "# Finally we pull it all together. We call cross val score to generate an accuracy performance score for our model\n",
        "# we define our learning model, data, labels, and cross-val splitting strategy (all defined previously)\n",
        "log_results_kfold = model_selection.cross_val_score(log_model_kfold, heart_prepared, heartdata_target, cv=kfold)\n",
        "svc_results_kfold = model_selection.cross_val_score(svc_model_kfold, heart_prepared, heartdata_target, cv=kfold)\n",
        "\n",
        "# Because we're collecting results from all runs, we take the mean value\n",
        "print(\"For Logistic Regression our mean accuracy across folds is: %.2f%%\" % (log_results_kfold.mean()*100.0)) \n",
        "print(\"For an SVM Regression our mean accuracy across folds is: %.2f%%\" % (svc_results_kfold.mean()*100.0)) "
      ],
      "execution_count": null,
      "outputs": [
        {
          "output_type": "stream",
          "text": [
            "For Logistic Regression our mean accuracy across folds is: 82.17%\n",
            "For an SVM Regression our mean accuracy across folds is: 83.49%\n"
          ],
          "name": "stdout"
        }
      ]
    },
    {
      "cell_type": "markdown",
      "metadata": {
        "id": "9dRvgdjjXNIK"
      },
      "source": [
        "[Discuss]\n",
        "\n",
        "**Answer: My best reporting model was the SVM with a linear kernel with an 83.49% accuracy averaged across the 10 folds**"
      ]
    },
    {
      "cell_type": "markdown",
      "metadata": {
        "id": "TrjTZGxjXNIK"
      },
      "source": [
        "## [bonus 10pt] 4.2. use 10-fold cross validation to select the best hyperparameter $\\lambda$ (1/C) in logistic regression with l2 penalty."
      ]
    },
    {
      "cell_type": "code",
      "metadata": {
        "id": "pbZ3MgGvXNIK"
      },
      "source": [
        "'''\n",
        "  This is similar to 4.1\n",
        "  Hint: create a bunch of lambdas value range from (0,some large number)\n",
        "  then when you for loop to create LogisticRegression(), \n",
        "  assign parameter \"C\" to be \"1/(one particular lambda)\"\n",
        "  and print out cross_val_score().\n",
        "  Also, specify which lambda is the best one in your opinion\n",
        "'''"
      ],
      "execution_count": null,
      "outputs": []
    }
  ]
}